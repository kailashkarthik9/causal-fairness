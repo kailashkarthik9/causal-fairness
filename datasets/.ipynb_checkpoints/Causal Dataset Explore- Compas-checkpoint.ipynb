{
 "cells": [
  {
   "cell_type": "code",
   "execution_count": 2,
   "metadata": {},
   "outputs": [
    {
     "name": "stderr",
     "output_type": "stream",
     "text": [
      "unable to import 'smart_open.gcs', disabling that module\n"
     ]
    }
   ],
   "source": [
    "from responsibly.dataset import COMPASDataset\n",
    "from responsibly.dataset import GermanDataset"
   ]
  },
  {
   "cell_type": "code",
   "execution_count": 3,
   "metadata": {},
   "outputs": [
    {
     "name": "stderr",
     "output_type": "stream",
     "text": [
      "/home/shiv/stuff/causalInference/env/lib/python3.8/site-packages/responsibly/dataset/german/__init__.py:83: FutureWarning: Columnar iteration over characters will be deprecated in future releases.\n"
     ]
    }
   ],
   "source": [
    "compasdf = COMPASDataset().df\n",
    "germandf = GermanDataset().df"
   ]
  },
  {
   "cell_type": "code",
   "execution_count": 17,
   "metadata": {
    "scrolled": true
   },
   "outputs": [
    {
     "data": {
      "text/plain": [
       "Index(['id', 'name', 'first', 'last', 'compas_screening_date', 'sex', 'dob',\n",
       "       'age', 'age_cat', 'race', 'juv_fel_count', 'decile_score',\n",
       "       'juv_misd_count', 'juv_other_count', 'priors_count',\n",
       "       'days_b_screening_arrest', 'c_jail_in', 'c_jail_out', 'c_case_number',\n",
       "       'c_offense_date', 'c_arrest_date', 'c_days_from_compas',\n",
       "       'c_charge_degree', 'c_charge_desc', 'is_recid', 'r_case_number',\n",
       "       'r_charge_degree', 'r_days_from_arrest', 'r_offense_date',\n",
       "       'r_charge_desc', 'r_jail_in', 'r_jail_out', 'violent_recid',\n",
       "       'is_violent_recid', 'vr_case_number', 'vr_charge_degree',\n",
       "       'vr_offense_date', 'vr_charge_desc', 'type_of_assessment',\n",
       "       'decile_score.1', 'score_text', 'screening_date',\n",
       "       'v_type_of_assessment', 'v_decile_score', 'v_score_text',\n",
       "       'v_screening_date', 'in_custody', 'out_custody', 'priors_count.1',\n",
       "       'start', 'end', 'event', 'two_year_recid', 'length_of_stay',\n",
       "       'score_factor', 'y_pred'],\n",
       "      dtype='object')"
      ]
     },
     "execution_count": 17,
     "metadata": {},
     "output_type": "execute_result"
    }
   ],
   "source": [
    "compasdf.columns"
   ]
  },
  {
   "cell_type": "code",
   "execution_count": 20,
   "metadata": {},
   "outputs": [
    {
     "name": "stdout",
     "output_type": "stream",
     "text": [
      "2013-01-01 2014-12-31\n"
     ]
    }
   ],
   "source": [
    "print(min(compasdf.compas_screening_date),max(compasdf.compas_screening_date))"
   ]
  },
  {
   "cell_type": "code",
   "execution_count": 26,
   "metadata": {},
   "outputs": [
    {
     "name": "stdout",
     "output_type": "stream",
     "text": [
      "Min, max:  18 96\n",
      "#Unique ages:  65\n",
      "Age frequencies 24    315\n",
      "21    286\n",
      "23    285\n",
      "25    285\n",
      "26    281\n",
      "     ... \n",
      "73      1\n",
      "79      1\n",
      "78      1\n",
      "75      1\n",
      "18      1\n",
      "Name: age, Length: 65, dtype: int64\n"
     ]
    }
   ],
   "source": [
    "print(\"Min, max: \",min(compasdf.age),max(compasdf.age))\n",
    "print(\"#Unique ages: \",len(compasdf['age'].value_counts()))\n",
    "print(\"Age frequencies\", compasdf['age'].value_counts())"
   ]
  },
  {
   "cell_type": "code",
   "execution_count": 29,
   "metadata": {},
   "outputs": [
    {
     "name": "stdout",
     "output_type": "stream",
     "text": [
      "25 - 45            3532\n",
      "Less than 25       1347\n",
      "Greater than 45    1293\n",
      "Name: age_cat, dtype: int64\n"
     ]
    }
   ],
   "source": [
    "print(compasdf.age_cat.value_counts())\n",
    "# expand age categories to 6 with a span of 10 years each, and the rest above."
   ]
  },
  {
   "cell_type": "code",
   "execution_count": 31,
   "metadata": {},
   "outputs": [
    {
     "name": "stdout",
     "output_type": "stream",
     "text": [
      "0     5964\n",
      "1      139\n",
      "2       37\n",
      "3       13\n",
      "4        9\n",
      "5        4\n",
      "6        2\n",
      "8        2\n",
      "10       1\n",
      "20       1\n",
      "Name: juv_fel_count, dtype: int64\n"
     ]
    }
   ],
   "source": [
    "print(compasdf.juv_fel_count.value_counts())\n",
    "#Too sparse for any useful information"
   ]
  },
  {
   "cell_type": "code",
   "execution_count": 33,
   "metadata": {},
   "outputs": [
    {
     "name": "stdout",
     "output_type": "stream",
     "text": [
      "1     1286\n",
      "2      822\n",
      "4      666\n",
      "3      647\n",
      "5      582\n",
      "6      529\n",
      "7      496\n",
      "9      420\n",
      "8      420\n",
      "10     304\n",
      "Name: decile_score, dtype: int64\n"
     ]
    }
   ],
   "source": [
    "print(compasdf.decile_score.value_counts())"
   ]
  },
  {
   "cell_type": "code",
   "execution_count": 34,
   "metadata": {},
   "outputs": [
    {
     "name": "stdout",
     "output_type": "stream",
     "text": [
      "0     5820\n",
      "1      248\n",
      "2       60\n",
      "3       23\n",
      "4        7\n",
      "5        5\n",
      "6        4\n",
      "8        3\n",
      "13       1\n",
      "12       1\n",
      "Name: juv_misd_count, dtype: int64\n"
     ]
    }
   ],
   "source": [
    "print(compasdf.juv_misd_count.value_counts())"
   ]
  },
  {
   "cell_type": "code",
   "execution_count": 35,
   "metadata": {
    "scrolled": true
   },
   "outputs": [
    {
     "name": "stdout",
     "output_type": "stream",
     "text": [
      "0    5711\n",
      "1     326\n",
      "2      85\n",
      "3      30\n",
      "4      12\n",
      "5       4\n",
      "7       2\n",
      "6       1\n",
      "9       1\n",
      "Name: juv_other_count, dtype: int64\n"
     ]
    }
   ],
   "source": [
    "print(compasdf.juv_other_count.value_counts())"
   ]
  },
  {
   "cell_type": "code",
   "execution_count": 56,
   "metadata": {},
   "outputs": [
    {
     "name": "stdout",
     "output_type": "stream",
     "text": [
      "241\n",
      " 0      2017\n",
      " 1      1584\n",
      " 2       424\n",
      " 3       188\n",
      "-1       183\n",
      "        ... \n",
      " 158       1\n",
      " 162       1\n",
      " 170       1\n",
      " 182       1\n",
      " 799       1\n",
      "Length: 241, dtype: int64\n"
     ]
    }
   ],
   "source": [
    "print(len((compasdf.c_jail_out - compasdf.c_jail_in).dt.days.value_counts()))\n",
    "print((compasdf.c_jail_out - compasdf.c_jail_in).dt.days.value_counts())\n",
    "# bin sizes: <1 day,1 day, 2-7 days, 8-15, 16-30, >30"
   ]
  },
  {
   "cell_type": "code",
   "execution_count": 5,
   "metadata": {},
   "outputs": [
    {
     "name": "stdout",
     "output_type": "stream",
     "text": [
      "1.0       4336\n",
      "0.0        869\n",
      "2.0        210\n",
      "3.0         97\n",
      "4.0         80\n",
      "          ... \n",
      "154.0        1\n",
      "3853.0       1\n",
      "261.0        1\n",
      "2302.0       1\n",
      "2022.0       1\n",
      "Name: c_days_from_compas, Length: 153, dtype: int64\n"
     ]
    }
   ],
   "source": [
    "print(compasdf.c_days_from_compas.value_counts())"
   ]
  },
  {
   "cell_type": "code",
   "execution_count": 61,
   "metadata": {
    "scrolled": true
   },
   "outputs": [
    {
     "name": "stdout",
     "output_type": "stream",
     "text": [
      "(M1)     1041\n",
      "(M2)      965\n",
      "(F3)      759\n",
      "(F2)      140\n",
      "(F1)       43\n",
      "(MO3)      29\n",
      "(F7)        7\n",
      "(F6)        3\n",
      "(CO3)       2\n",
      "(F5)        1\n",
      "Name: r_charge_degree, dtype: int64\n"
     ]
    }
   ],
   "source": [
    "print(compasdf.r_charge_degree.value_counts())"
   ]
  },
  {
   "cell_type": "code",
   "execution_count": 69,
   "metadata": {},
   "outputs": [
    {
     "name": "stdout",
     "output_type": "stream",
     "text": [
      "Series([], Name: violent_recid, dtype: int64)\n"
     ]
    }
   ],
   "source": [
    "print(compasdf.violent_recid.value_counts())"
   ]
  },
  {
   "cell_type": "code",
   "execution_count": 71,
   "metadata": {},
   "outputs": [
    {
     "name": "stdout",
     "output_type": "stream",
     "text": [
      "Risk of Recidivism    6172\n",
      "Name: type_of_assessment, dtype: int64\n"
     ]
    }
   ],
   "source": [
    "print(compasdf.type_of_assessment.value_counts())"
   ]
  },
  {
   "cell_type": "code",
   "execution_count": 72,
   "metadata": {},
   "outputs": [
    {
     "name": "stdout",
     "output_type": "stream",
     "text": [
      "(M1)     296\n",
      "(F3)     189\n",
      "(F2)     131\n",
      "(F1)      35\n",
      "(F7)      17\n",
      "(M2)      17\n",
      "(MO3)      3\n",
      "(F6)       3\n",
      "(F5)       1\n",
      "Name: vr_charge_degree, dtype: int64\n"
     ]
    }
   ],
   "source": [
    "print(compasdf.vr_charge_degree.value_counts())"
   ]
  },
  {
   "cell_type": "code",
   "execution_count": 85,
   "metadata": {
    "scrolled": true
   },
   "outputs": [
    {
     "data": {
      "text/html": [
       "<div>\n",
       "<style scoped>\n",
       "    .dataframe tbody tr th:only-of-type {\n",
       "        vertical-align: middle;\n",
       "    }\n",
       "\n",
       "    .dataframe tbody tr th {\n",
       "        vertical-align: top;\n",
       "    }\n",
       "\n",
       "    .dataframe thead th {\n",
       "        text-align: right;\n",
       "    }\n",
       "</style>\n",
       "<table border=\"1\" class=\"dataframe\">\n",
       "  <thead>\n",
       "    <tr style=\"text-align: right;\">\n",
       "      <th></th>\n",
       "      <th>decile_score.1</th>\n",
       "      <th>score_text</th>\n",
       "    </tr>\n",
       "  </thead>\n",
       "  <tbody>\n",
       "    <tr>\n",
       "      <th>0</th>\n",
       "      <td>1</td>\n",
       "      <td>Low</td>\n",
       "    </tr>\n",
       "    <tr>\n",
       "      <th>1</th>\n",
       "      <td>3</td>\n",
       "      <td>Low</td>\n",
       "    </tr>\n",
       "    <tr>\n",
       "      <th>2</th>\n",
       "      <td>4</td>\n",
       "      <td>Low</td>\n",
       "    </tr>\n",
       "    <tr>\n",
       "      <th>5</th>\n",
       "      <td>1</td>\n",
       "      <td>Low</td>\n",
       "    </tr>\n",
       "    <tr>\n",
       "      <th>6</th>\n",
       "      <td>6</td>\n",
       "      <td>Medium</td>\n",
       "    </tr>\n",
       "    <tr>\n",
       "      <th>...</th>\n",
       "      <td>...</td>\n",
       "      <td>...</td>\n",
       "    </tr>\n",
       "    <tr>\n",
       "      <th>7209</th>\n",
       "      <td>7</td>\n",
       "      <td>Medium</td>\n",
       "    </tr>\n",
       "    <tr>\n",
       "      <th>7210</th>\n",
       "      <td>3</td>\n",
       "      <td>Low</td>\n",
       "    </tr>\n",
       "    <tr>\n",
       "      <th>7211</th>\n",
       "      <td>1</td>\n",
       "      <td>Low</td>\n",
       "    </tr>\n",
       "    <tr>\n",
       "      <th>7212</th>\n",
       "      <td>2</td>\n",
       "      <td>Low</td>\n",
       "    </tr>\n",
       "    <tr>\n",
       "      <th>7213</th>\n",
       "      <td>4</td>\n",
       "      <td>Low</td>\n",
       "    </tr>\n",
       "  </tbody>\n",
       "</table>\n",
       "<p>6172 rows × 2 columns</p>\n",
       "</div>"
      ],
      "text/plain": [
       "      decile_score.1 score_text\n",
       "0                  1        Low\n",
       "1                  3        Low\n",
       "2                  4        Low\n",
       "5                  1        Low\n",
       "6                  6     Medium\n",
       "...              ...        ...\n",
       "7209               7     Medium\n",
       "7210               3        Low\n",
       "7211               1        Low\n",
       "7212               2        Low\n",
       "7213               4        Low\n",
       "\n",
       "[6172 rows x 2 columns]"
      ]
     },
     "execution_count": 85,
     "metadata": {},
     "output_type": "execute_result"
    }
   ],
   "source": [
    "compasdf[['decile_score.1','score_text']]"
   ]
  },
  {
   "cell_type": "code",
   "execution_count": 76,
   "metadata": {},
   "outputs": [
    {
     "name": "stdout",
     "output_type": "stream",
     "text": [
      "0       2013-08-14\n",
      "1       2013-01-27\n",
      "2       2013-04-14\n",
      "5       2013-11-30\n",
      "6       2014-02-19\n",
      "           ...    \n",
      "7209    2013-11-23\n",
      "7210    2014-02-01\n",
      "7211    2014-01-14\n",
      "7212    2014-03-09\n",
      "7213    2014-06-30\n",
      "Name: screening_date, Length: 6172, dtype: object\n"
     ]
    }
   ],
   "source": [
    "print(compasdf.screening_date)"
   ]
  },
  {
   "cell_type": "code",
   "execution_count": 88,
   "metadata": {},
   "outputs": [
    {
     "data": {
      "text/html": [
       "<div>\n",
       "<style scoped>\n",
       "    .dataframe tbody tr th:only-of-type {\n",
       "        vertical-align: middle;\n",
       "    }\n",
       "\n",
       "    .dataframe tbody tr th {\n",
       "        vertical-align: top;\n",
       "    }\n",
       "\n",
       "    .dataframe thead th {\n",
       "        text-align: right;\n",
       "    }\n",
       "</style>\n",
       "<table border=\"1\" class=\"dataframe\">\n",
       "  <thead>\n",
       "    <tr style=\"text-align: right;\">\n",
       "      <th></th>\n",
       "      <th>v_decile_score</th>\n",
       "      <th>v_score_text</th>\n",
       "    </tr>\n",
       "  </thead>\n",
       "  <tbody>\n",
       "    <tr>\n",
       "      <th>0</th>\n",
       "      <td>1</td>\n",
       "      <td>Low</td>\n",
       "    </tr>\n",
       "    <tr>\n",
       "      <th>1</th>\n",
       "      <td>1</td>\n",
       "      <td>Low</td>\n",
       "    </tr>\n",
       "    <tr>\n",
       "      <th>2</th>\n",
       "      <td>3</td>\n",
       "      <td>Low</td>\n",
       "    </tr>\n",
       "    <tr>\n",
       "      <th>5</th>\n",
       "      <td>1</td>\n",
       "      <td>Low</td>\n",
       "    </tr>\n",
       "    <tr>\n",
       "      <th>6</th>\n",
       "      <td>2</td>\n",
       "      <td>Low</td>\n",
       "    </tr>\n",
       "    <tr>\n",
       "      <th>...</th>\n",
       "      <td>...</td>\n",
       "      <td>...</td>\n",
       "    </tr>\n",
       "    <tr>\n",
       "      <th>7209</th>\n",
       "      <td>5</td>\n",
       "      <td>Medium</td>\n",
       "    </tr>\n",
       "    <tr>\n",
       "      <th>7210</th>\n",
       "      <td>5</td>\n",
       "      <td>Medium</td>\n",
       "    </tr>\n",
       "    <tr>\n",
       "      <th>7211</th>\n",
       "      <td>1</td>\n",
       "      <td>Low</td>\n",
       "    </tr>\n",
       "    <tr>\n",
       "      <th>7212</th>\n",
       "      <td>2</td>\n",
       "      <td>Low</td>\n",
       "    </tr>\n",
       "    <tr>\n",
       "      <th>7213</th>\n",
       "      <td>4</td>\n",
       "      <td>Low</td>\n",
       "    </tr>\n",
       "  </tbody>\n",
       "</table>\n",
       "<p>6172 rows × 2 columns</p>\n",
       "</div>"
      ],
      "text/plain": [
       "      v_decile_score v_score_text\n",
       "0                  1          Low\n",
       "1                  1          Low\n",
       "2                  3          Low\n",
       "5                  1          Low\n",
       "6                  2          Low\n",
       "...              ...          ...\n",
       "7209               5       Medium\n",
       "7210               5       Medium\n",
       "7211               1          Low\n",
       "7212               2          Low\n",
       "7213               4          Low\n",
       "\n",
       "[6172 rows x 2 columns]"
      ]
     },
     "execution_count": 88,
     "metadata": {},
     "output_type": "execute_result"
    }
   ],
   "source": [
    "compasdf[['v_decile_score','v_score_text']]"
   ]
  },
  {
   "cell_type": "code",
   "execution_count": 86,
   "metadata": {},
   "outputs": [
    {
     "data": {
      "text/html": [
       "<div>\n",
       "<style scoped>\n",
       "    .dataframe tbody tr th:only-of-type {\n",
       "        vertical-align: middle;\n",
       "    }\n",
       "\n",
       "    .dataframe tbody tr th {\n",
       "        vertical-align: top;\n",
       "    }\n",
       "\n",
       "    .dataframe thead th {\n",
       "        text-align: right;\n",
       "    }\n",
       "</style>\n",
       "<table border=\"1\" class=\"dataframe\">\n",
       "  <thead>\n",
       "    <tr style=\"text-align: right;\">\n",
       "      <th></th>\n",
       "      <th>in_custody</th>\n",
       "      <th>out_custody</th>\n",
       "      <th>priors_count.1</th>\n",
       "    </tr>\n",
       "  </thead>\n",
       "  <tbody>\n",
       "    <tr>\n",
       "      <th>0</th>\n",
       "      <td>2014-07-07</td>\n",
       "      <td>2014-07-14</td>\n",
       "      <td>0</td>\n",
       "    </tr>\n",
       "    <tr>\n",
       "      <th>1</th>\n",
       "      <td>2013-01-26</td>\n",
       "      <td>2013-02-05</td>\n",
       "      <td>0</td>\n",
       "    </tr>\n",
       "    <tr>\n",
       "      <th>2</th>\n",
       "      <td>2013-06-16</td>\n",
       "      <td>2013-06-16</td>\n",
       "      <td>4</td>\n",
       "    </tr>\n",
       "    <tr>\n",
       "      <th>5</th>\n",
       "      <td>2013-11-30</td>\n",
       "      <td>2013-12-01</td>\n",
       "      <td>0</td>\n",
       "    </tr>\n",
       "    <tr>\n",
       "      <th>6</th>\n",
       "      <td>2014-03-31</td>\n",
       "      <td>2014-04-18</td>\n",
       "      <td>14</td>\n",
       "    </tr>\n",
       "    <tr>\n",
       "      <th>...</th>\n",
       "      <td>...</td>\n",
       "      <td>...</td>\n",
       "      <td>...</td>\n",
       "    </tr>\n",
       "    <tr>\n",
       "      <th>7209</th>\n",
       "      <td>2013-11-22</td>\n",
       "      <td>2013-11-24</td>\n",
       "      <td>0</td>\n",
       "    </tr>\n",
       "    <tr>\n",
       "      <th>7210</th>\n",
       "      <td>2014-01-31</td>\n",
       "      <td>2014-02-02</td>\n",
       "      <td>0</td>\n",
       "    </tr>\n",
       "    <tr>\n",
       "      <th>7211</th>\n",
       "      <td>2014-01-13</td>\n",
       "      <td>2014-01-14</td>\n",
       "      <td>0</td>\n",
       "    </tr>\n",
       "    <tr>\n",
       "      <th>7212</th>\n",
       "      <td>2014-03-08</td>\n",
       "      <td>2014-03-09</td>\n",
       "      <td>3</td>\n",
       "    </tr>\n",
       "    <tr>\n",
       "      <th>7213</th>\n",
       "      <td>2015-03-15</td>\n",
       "      <td>2015-03-15</td>\n",
       "      <td>2</td>\n",
       "    </tr>\n",
       "  </tbody>\n",
       "</table>\n",
       "<p>6172 rows × 3 columns</p>\n",
       "</div>"
      ],
      "text/plain": [
       "      in_custody out_custody  priors_count.1\n",
       "0     2014-07-07  2014-07-14               0\n",
       "1     2013-01-26  2013-02-05               0\n",
       "2     2013-06-16  2013-06-16               4\n",
       "5     2013-11-30  2013-12-01               0\n",
       "6     2014-03-31  2014-04-18              14\n",
       "...          ...         ...             ...\n",
       "7209  2013-11-22  2013-11-24               0\n",
       "7210  2014-01-31  2014-02-02               0\n",
       "7211  2014-01-13  2014-01-14               0\n",
       "7212  2014-03-08  2014-03-09               3\n",
       "7213  2015-03-15  2015-03-15               2\n",
       "\n",
       "[6172 rows x 3 columns]"
      ]
     },
     "execution_count": 86,
     "metadata": {},
     "output_type": "execute_result"
    }
   ],
   "source": [
    "compasdf[['in_custody', 'out_custody', 'priors_count.1']]"
   ]
  },
  {
   "cell_type": "code",
   "execution_count": 90,
   "metadata": {},
   "outputs": [
    {
     "data": {
      "text/html": [
       "<div>\n",
       "<style scoped>\n",
       "    .dataframe tbody tr th:only-of-type {\n",
       "        vertical-align: middle;\n",
       "    }\n",
       "\n",
       "    .dataframe tbody tr th {\n",
       "        vertical-align: top;\n",
       "    }\n",
       "\n",
       "    .dataframe thead th {\n",
       "        text-align: right;\n",
       "    }\n",
       "</style>\n",
       "<table border=\"1\" class=\"dataframe\">\n",
       "  <thead>\n",
       "    <tr style=\"text-align: right;\">\n",
       "      <th></th>\n",
       "      <th>start</th>\n",
       "      <th>end</th>\n",
       "      <th>event</th>\n",
       "      <th>two_year_recid</th>\n",
       "      <th>length_of_stay</th>\n",
       "      <th>score_factor</th>\n",
       "      <th>y_pred</th>\n",
       "    </tr>\n",
       "  </thead>\n",
       "  <tbody>\n",
       "    <tr>\n",
       "      <th>0</th>\n",
       "      <td>0</td>\n",
       "      <td>327</td>\n",
       "      <td>0</td>\n",
       "      <td>0</td>\n",
       "      <td>0 days 23:37:38</td>\n",
       "      <td>LowScore</td>\n",
       "      <td>False</td>\n",
       "    </tr>\n",
       "    <tr>\n",
       "      <th>1</th>\n",
       "      <td>9</td>\n",
       "      <td>159</td>\n",
       "      <td>1</td>\n",
       "      <td>1</td>\n",
       "      <td>10 days 01:51:26</td>\n",
       "      <td>LowScore</td>\n",
       "      <td>False</td>\n",
       "    </tr>\n",
       "    <tr>\n",
       "      <th>2</th>\n",
       "      <td>0</td>\n",
       "      <td>63</td>\n",
       "      <td>0</td>\n",
       "      <td>1</td>\n",
       "      <td>1 days 02:03:30</td>\n",
       "      <td>LowScore</td>\n",
       "      <td>False</td>\n",
       "    </tr>\n",
       "    <tr>\n",
       "      <th>5</th>\n",
       "      <td>1</td>\n",
       "      <td>853</td>\n",
       "      <td>0</td>\n",
       "      <td>0</td>\n",
       "      <td>1 days 07:38:38</td>\n",
       "      <td>LowScore</td>\n",
       "      <td>False</td>\n",
       "    </tr>\n",
       "    <tr>\n",
       "      <th>6</th>\n",
       "      <td>5</td>\n",
       "      <td>40</td>\n",
       "      <td>1</td>\n",
       "      <td>1</td>\n",
       "      <td>6 days 07:10:06</td>\n",
       "      <td>HighScore</td>\n",
       "      <td>True</td>\n",
       "    </tr>\n",
       "    <tr>\n",
       "      <th>...</th>\n",
       "      <td>...</td>\n",
       "      <td>...</td>\n",
       "      <td>...</td>\n",
       "      <td>...</td>\n",
       "      <td>...</td>\n",
       "      <td>...</td>\n",
       "      <td>...</td>\n",
       "    </tr>\n",
       "    <tr>\n",
       "      <th>7209</th>\n",
       "      <td>1</td>\n",
       "      <td>860</td>\n",
       "      <td>0</td>\n",
       "      <td>0</td>\n",
       "      <td>1 days 21:40:53</td>\n",
       "      <td>HighScore</td>\n",
       "      <td>True</td>\n",
       "    </tr>\n",
       "    <tr>\n",
       "      <th>7210</th>\n",
       "      <td>1</td>\n",
       "      <td>790</td>\n",
       "      <td>0</td>\n",
       "      <td>0</td>\n",
       "      <td>1 days 20:49:58</td>\n",
       "      <td>LowScore</td>\n",
       "      <td>False</td>\n",
       "    </tr>\n",
       "    <tr>\n",
       "      <th>7211</th>\n",
       "      <td>0</td>\n",
       "      <td>808</td>\n",
       "      <td>0</td>\n",
       "      <td>0</td>\n",
       "      <td>1 days 02:01:45</td>\n",
       "      <td>LowScore</td>\n",
       "      <td>False</td>\n",
       "    </tr>\n",
       "    <tr>\n",
       "      <th>7212</th>\n",
       "      <td>0</td>\n",
       "      <td>754</td>\n",
       "      <td>0</td>\n",
       "      <td>0</td>\n",
       "      <td>1 days 04:12:02</td>\n",
       "      <td>LowScore</td>\n",
       "      <td>False</td>\n",
       "    </tr>\n",
       "    <tr>\n",
       "      <th>7213</th>\n",
       "      <td>0</td>\n",
       "      <td>258</td>\n",
       "      <td>0</td>\n",
       "      <td>1</td>\n",
       "      <td>1 days 23:02:42</td>\n",
       "      <td>LowScore</td>\n",
       "      <td>False</td>\n",
       "    </tr>\n",
       "  </tbody>\n",
       "</table>\n",
       "<p>6172 rows × 7 columns</p>\n",
       "</div>"
      ],
      "text/plain": [
       "      start  end  event  two_year_recid   length_of_stay score_factor  y_pred\n",
       "0         0  327      0               0  0 days 23:37:38     LowScore   False\n",
       "1         9  159      1               1 10 days 01:51:26     LowScore   False\n",
       "2         0   63      0               1  1 days 02:03:30     LowScore   False\n",
       "5         1  853      0               0  1 days 07:38:38     LowScore   False\n",
       "6         5   40      1               1  6 days 07:10:06    HighScore    True\n",
       "...     ...  ...    ...             ...              ...          ...     ...\n",
       "7209      1  860      0               0  1 days 21:40:53    HighScore    True\n",
       "7210      1  790      0               0  1 days 20:49:58     LowScore   False\n",
       "7211      0  808      0               0  1 days 02:01:45     LowScore   False\n",
       "7212      0  754      0               0  1 days 04:12:02     LowScore   False\n",
       "7213      0  258      0               1  1 days 23:02:42     LowScore   False\n",
       "\n",
       "[6172 rows x 7 columns]"
      ]
     },
     "execution_count": 90,
     "metadata": {},
     "output_type": "execute_result"
    }
   ],
   "source": [
    "compasdf[['start', 'end', 'event', 'two_year_recid', 'length_of_stay',\n",
    "       'score_factor', 'y_pred']]"
   ]
  },
  {
   "cell_type": "code",
   "execution_count": 107,
   "metadata": {},
   "outputs": [],
   "source": [
    "removed_compas_columns = ['id','name','first','last','dob','age','juv_fel_count','juv_misd_count',\n",
    "                          'juv_other_count','c_jail_in','c_jail_out','c_case_number','c_days_from_compas',\n",
    "                          'c_charge_desc','r_case_number','r_charge_desc','r_days_from_arrest','r_jail_in',\n",
    "                          'r_jail_out','violent_recid','vr_case_number','v_type_of_assessment','type_of_assessment',\n",
    "                          'decile_score','decile_score.1','v_decile_score','v_screening_date','start', 'end', \n",
    "                          'event','vr_charge_desc','c_offense_date', 'c_arrest_date','r_offense_date',\n",
    "                          'screening_date','is_violent_recid']\n",
    "derived_compas_columns = ['c_jail_time','c_offense_date', 'c_arrest_date','r_offense_date','r_jail_time',\n",
    "                          'screening_date','decile_score_text','violent_custody_time', 'length_of_stay']\n",
    "\n",
    "#datetime.round('H')\n",
    "\n",
    "# r/c_jail_time = r/c_jail_out-r/c_jail_in rounded to days with bins <1 day,1 day, 2-7 days, 8-15, 16-30, >30\n",
    "# offence and arrest dates, screening date binned by month, year\n",
    "# decile_score_text = bins of low (1-4), med(5-7) and high\n",
    "# violent_custody_time = out_custody - in_custody binned by similar to r/c jail time\n",
    "# length of stay rounded to dasy, binned similar to jail time\n"
   ]
  },
  {
   "cell_type": "code",
   "execution_count": 108,
   "metadata": {},
   "outputs": [
    {
     "name": "stdout",
     "output_type": "stream",
     "text": [
      "['compas_screening_date', 'sex', 'age_cat', 'race', 'priors_count', 'days_b_screening_arrest', 'c_charge_degree', 'is_recid', 'r_charge_degree', 'vr_charge_degree', 'vr_offense_date', 'score_text', 'v_score_text', 'in_custody', 'out_custody', 'priors_count.1', 'two_year_recid', 'length_of_stay', 'score_factor', 'y_pred', 'c_jail_time', 'c_offense_date', 'c_arrest_date', 'r_offense_date', 'r_jail_time', 'screening_date', 'decile_score_text', 'violent_custody_time', 'length_of_stay']\n"
     ]
    }
   ],
   "source": [
    "compas_columns = [i for i in list(compasdf.columns) if i not in list(removed_compas_columns)] + derived_compas_columns\n",
    "print(compas_columns)"
   ]
  },
  {
   "cell_type": "code",
   "execution_count": null,
   "metadata": {},
   "outputs": [],
   "source": []
  }
 ],
 "metadata": {
  "kernelspec": {
   "display_name": "env",
   "language": "python",
   "name": "env"
  },
  "language_info": {
   "codemirror_mode": {
    "name": "ipython",
    "version": 3
   },
   "file_extension": ".py",
   "mimetype": "text/x-python",
   "name": "python",
   "nbconvert_exporter": "python",
   "pygments_lexer": "ipython3",
   "version": "3.8.2"
  }
 },
 "nbformat": 4,
 "nbformat_minor": 2
}
